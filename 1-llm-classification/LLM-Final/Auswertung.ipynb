{
  "nbformat": 4,
  "nbformat_minor": 0,
  "metadata": {
    "colab": {
      "provenance": []
    },
    "kernelspec": {
      "name": "python3",
      "display_name": "Python 3"
    },
    "language_info": {
      "name": "python"
    }
  },
  "cells": [
    {
      "cell_type": "code",
      "source": [
        "import pandas as pd\n",
        "import numpy as np\n",
        "from sklearn.metrics import cohen_kappa_score, classification_report\n",
        "\n",
        "# Function to load and preprocess a CSV file\n",
        "def load_and_preprocess_csv(file_path, column_names, has_header=False):\n",
        "    \"\"\"\n",
        "    Loads a CSV file, assigns column names, and handles optional headers.\n",
        "\n",
        "    Args:\n",
        "        file_path (str): Path to the CSV file.\n",
        "        column_names (list): List of column names to assign.\n",
        "        has_header (bool): Whether the file has a header row.\n",
        "\n",
        "    Returns:\n",
        "        pd.DataFrame: Preprocessed DataFrame.\n",
        "    \"\"\"\n",
        "    if has_header:\n",
        "        df = pd.read_csv(file_path, header=0, names=column_names)\n",
        "    else:\n",
        "        df = pd.read_csv(file_path, header=None, names=column_names)\n",
        "    return df\n",
        "\n",
        "# Function to extract specific columns as lists\n",
        "def extract_columns(df, columns):\n",
        "    \"\"\"\n",
        "    Extracts specified columns from a DataFrame as lists.\n",
        "\n",
        "    Args:\n",
        "        df (pd.DataFrame): The DataFrame to extract from.\n",
        "        columns (list): List of column names to extract.\n",
        "\n",
        "    Returns:\n",
        "        dict: A dictionary with column names as keys and their corresponding lists as values.\n",
        "    \"\"\"\n",
        "    return {col: df[col].tolist() for col in columns}\n",
        "\n",
        "# Function to clean annotations\n",
        "def clean_annotations(annotations):\n",
        "    \"\"\"\n",
        "    Cleans a list of annotations by removing leading/trailing spaces and normalizing case.\n",
        "\n",
        "    Args:\n",
        "        annotations (list): List of annotations to clean.\n",
        "\n",
        "    Returns:\n",
        "        list: Cleaned list of annotations.\n",
        "    \"\"\"\n",
        "    return [annotation.strip().lower() for annotation in annotations]\n",
        "\n",
        "# Load and preprocess the CSV files\n",
        "llm_results = load_and_preprocess_csv(\n",
        "    \"Query_Ollama.csv\",\n",
        "    column_names=[\"Prompt\", \"Answer1\", \"Answer2\"],\n",
        "    has_header=True\n",
        ")\n",
        "\n",
        "group_results = load_and_preprocess_csv(\n",
        "    \"Taxonomie_Einteilung_no_ambiguous.csv\",\n",
        "    column_names=[\"Prompt\", \"Answer\"],\n",
        "    has_header=False\n",
        ")\n",
        "\n",
        "# Extract relevant columns\n",
        "llm_columns = extract_columns(llm_results, [\"Prompt\", \"Answer1\", \"Answer2\"])\n",
        "group_columns = extract_columns(group_results, [\"Prompt\", \"Answer\"])\n",
        "\n",
        "# Assign extracted columns to variables for clarity\n",
        "queries = llm_columns[\"Prompt\"]\n",
        "# Clean annotations\n",
        "annotations1 = clean_annotations(llm_columns[\"Answer2\"])\n",
        "annotations2 = clean_annotations(group_columns[\"Answer\"])\n",
        "\n",
        "# Ensure that the lists are of the same length for `llm_results`\n",
        "if not (len(queries) == len(annotations1) == len(annotations2)):\n",
        "    raise ValueError(\"Die Listen (queries, annotations1, annotations2) müssen gleich lang sein.\")\n",
        "\n"
      ],
      "metadata": {
        "id": "vkB9Q_tIsuiH"
      },
      "execution_count": 28,
      "outputs": []
    },
    {
      "cell_type": "code",
      "source": [
        "# Kategorien sammeln\n",
        "categories = sorted(list(set(annotations1 + annotations2)))"
      ],
      "metadata": {
        "id": "4Ji5FRegr2Uq"
      },
      "execution_count": 30,
      "outputs": []
    },
    {
      "cell_type": "code",
      "source": [
        "# Statistische Auswertungen\n",
        "def evaluate_annotations(annotations1, annotations2):\n",
        "    \"\"\"Vergleicht zwei Annotationen-Listen und gibt statistische Metriken zurück.\"\"\"\n",
        "\n",
        "    # Grundlegende Metriken\n",
        "    total = len(annotations1)\n",
        "    agreement = sum(a1 == a2 for a1, a2 in zip(annotations1, annotations2))\n",
        "    agreement_rate = agreement / total\n",
        "\n",
        "    # Cohen's Kappa\n",
        "    kappa = cohen_kappa_score(annotations1, annotations2, labels=categories)\n",
        "\n",
        "    # Detaillierter Report\n",
        "    report = classification_report(annotations1, annotations2, labels=categories, output_dict=True, zero_division=0)\n",
        "\n",
        "    return {\n",
        "        \"Total\": total,\n",
        "        \"Agreement\": agreement,\n",
        "        \"Agreement Rate\": agreement_rate,\n",
        "        \"Cohen's Kappa\": kappa,\n",
        "        \"Detailed Report\": report,\n",
        "    }"
      ],
      "metadata": {
        "id": "5Rz2O141sOPv"
      },
      "execution_count": 31,
      "outputs": []
    },
    {
      "cell_type": "code",
      "source": [
        "# Auswerten\n",
        "ergebnisse = evaluate_annotations(annotations1, annotations2)"
      ],
      "metadata": {
        "id": "5SeFT_uKtStv"
      },
      "execution_count": 32,
      "outputs": []
    },
    {
      "cell_type": "code",
      "source": [
        "# Ergebnisse ausgeben\n",
        "print(\"Statistische Auswertungen:\")\n",
        "print(f\"Gesamtanzahl: {ergebnisse['Total']}\")\n",
        "print(f\"Übereinstimmungen: {ergebnisse['Agreement']}\")\n",
        "print(f\"Übereinstimmungsrate: {ergebnisse['Agreement Rate']:.2f}\")\n",
        "print(\"Cohen's Kappa: {:.2f}\".format(ergebnisse[\"Cohen's Kappa\"]))\n",
        "\n",
        "\n",
        "print(\"\\nDetaillierter Report:\")\n",
        "for label, metrics in ergebnisse['Detailed Report'].items():\n",
        "    if isinstance(metrics, dict):\n",
        "        print(f\"Kategorie '{label}': {metrics}\")"
      ],
      "metadata": {
        "colab": {
          "base_uri": "https://localhost:8080/"
        },
        "id": "SeyZaoeatXwO",
        "outputId": "ee0fe6f2-095c-4ba8-958f-4f4d9411a427"
      },
      "execution_count": 33,
      "outputs": [
        {
          "output_type": "stream",
          "name": "stdout",
          "text": [
            "Statistische Auswertungen:\n",
            "Gesamtanzahl: 50\n",
            "Übereinstimmungen: 39\n",
            "Übereinstimmungsrate: 0.78\n",
            "Cohen's Kappa: 0.38\n",
            "\n",
            "Detaillierter Report:\n",
            "Kategorie 'event': {'precision': 1.0, 'recall': 0.75, 'f1-score': 0.8571428571428571, 'support': 4.0}\n",
            "Kategorie 'explicit-time': {'precision': 0.0, 'recall': 0.0, 'f1-score': 0.0, 'support': 1.0}\n",
            "Kategorie 'time-independent': {'precision': 0.9722222222222222, 'recall': 0.7954545454545454, 'f1-score': 0.875, 'support': 44.0}\n",
            "Kategorie 'timeliness': {'precision': 0.09090909090909091, 'recall': 1.0, 'f1-score': 0.16666666666666666, 'support': 1.0}\n",
            "Kategorie 'macro avg': {'precision': 0.5157828282828283, 'recall': 0.6363636363636364, 'f1-score': 0.474702380952381, 'support': 50.0}\n",
            "Kategorie 'weighted avg': {'precision': 0.9373737373737374, 'recall': 0.78, 'f1-score': 0.8419047619047619, 'support': 50.0}\n"
          ]
        }
      ]
    },
    {
      "cell_type": "code",
      "source": [],
      "metadata": {
        "id": "SuhSFXRdtZv-"
      },
      "execution_count": null,
      "outputs": []
    }
  ]
}