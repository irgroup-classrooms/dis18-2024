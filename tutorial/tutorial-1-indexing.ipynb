{
  "cells": [
    {
      "cell_type": "markdown",
      "metadata": {
        "id": "mx1osd5gdK9o"
      },
      "source": [
        "# Tutorial 1: PyTerrier Indexing\n",
        "\n",
        "In diesem Hands On Tutorial werden wir uns die LongEval Retrieval Test Collection anschauen.\n",
        "\n",
        "\n",
        "Hierzu verwenden wir [PyTerrier](https://pyterrier.readthedocs.io/en/latest/index.html) und [Pandas](https://pandas.pydata.org/). PyTerrier ist ein praktisches Retrieval Toolkit, mit dem schnell und einfach Retrieval-Systeme getestet werden können. Dabei liegt der Fokus auf experimentellen Evaluationen, die Systeme skalieren also nicht auf Produktionsniveau. Dafür werden viele praktische Tools bereitgestellt, um Evaluationen schnell zu ermöglichen.\n",
        "\n",
        "Weitere Informationen zu dem Datensatz und dem shared task finden sich zum Beispiel unter:\n",
        "- [LongEval Overview](https://clef-longeval.github.io/)\n",
        "\n",
        "In diesem ersten Hands-on Notebook werden wir uns die Topics, Dokumente und Qrels der Test Kollektion anschauen und dabei den Umgang mit PyTerrier lernen."
      ]
    },
    {
      "cell_type": "markdown",
      "metadata": {},
      "source": [
        "Als erstes müssen wir den LongEval Datensatz herunterladen. Da der Datensatz sehr groß ist, haben wir eine kleine Version des Datensatzes erstellt, die wir hier verwenden werden. Dieser enthält nur den ersten Zeitpunkt aus 2022 der auch als WT (within time) bezeichnet wird, nur die englischen Übersetzungen und auch nur die XML Dateien. \n",
        "\n",
        "Der Datensatz kann von [Sciebo](https://th-koeln.sciebo.de/s/jLGE7Mz2jsNQbZO) heruntergeladen werden und anschließend in den \"/data/raw\" Ordner entpackt werden."
      ]
    },
    {
      "cell_type": "markdown",
      "metadata": {
        "id": "eZT9MKFjeMgS"
      },
      "source": [
        "Zunächst müssen wir wieder PyTerrier installieren. Hierzu müssen wir nur diese Zelle ausführen:"
      ]
    },
    {
      "cell_type": "code",
      "execution_count": 2,
      "metadata": {
        "colab": {
          "base_uri": "https://localhost:8080/"
        },
        "id": "LK71PD33ztle",
        "outputId": "5141fa44-386f-45ad-e94a-0dac4cd9337c"
      },
      "outputs": [],
      "source": [
        "!pip install -q python-terrier"
      ]
    },
    {
      "cell_type": "markdown",
      "metadata": {
        "id": "w67e2RvRe-vd"
      },
      "source": [
        "Bevor wir PyTerrier benutzen können müssen wir es importieren und initialisieren."
      ]
    },
    {
      "cell_type": "code",
      "execution_count": 3,
      "metadata": {
        "colab": {
          "base_uri": "https://localhost:8080/"
        },
        "id": "KiRQJdBxy12c",
        "outputId": "a9005203-ffe2-4a13-ea7a-23e0d0100da9"
      },
      "outputs": [
        {
          "name": "stderr",
          "output_type": "stream",
          "text": [
            "Java started and loaded: pyterrier.java, pyterrier.terrier.java [version=5.10 (build: craigm 2024-08-22 17:33), helper_version=0.0.8]\n",
            "/var/folders/pz/f66p4s0s11z2c1c1l3v0qbh40000gn/T/ipykernel_2650/1601430269.py:3: DeprecationWarning: Call to deprecated method pt.init(). Deprecated since version 0.11.0.\n",
            "java is now started automatically with default settings. To force initialisation early, run:\n",
            "pt.java.init() # optional, forces java initialisation\n",
            "  pt.init()\n"
          ]
        }
      ],
      "source": [
        "import os\n",
        "import pyterrier as pt\n",
        "pt.init()"
      ]
    },
    {
      "cell_type": "markdown",
      "metadata": {
        "id": "lSzusHcfGiIS"
      },
      "source": [
        "Um den Datensatz zu durchsuchen, müssen wir ihn indexieren. PyTerrier bietet die Möglichkeit Datensätze in verschiedenen Formaten zu indexieren. Der kleine LongEval Datensatz liegt im TREC Format (XML) vor. Schau dir die Dateien am besten im Dateibrowser an, um einen Überblick zu bekommen welche Informationen zur Verfügung stehen.\n",
        "\n",
        "Um TREC Kollektionen zu indexieren, nutzen wir den `TRECCollectionIndexer`. Die Details  und ein Überblick über andere Indexer sind in der [PyTerrier Dokumentation](https://pyterrier.readthedocs.io/en/latest/terrier-indexing.html#treccollectionindexer) zu finden."
      ]
    },
    {
      "cell_type": "code",
      "execution_count": 5,
      "metadata": {
        "id": "nS1tVaM7FsrY"
      },
      "outputs": [],
      "source": [
        "indexer = pt.TRECCollectionIndexer(\n",
        "    index_path=\"./index\",  # path to the index\n",
        "    blocks=True,\n",
        "    verbose=True,\n",
        ")"
      ]
    },
    {
      "cell_type": "code",
      "execution_count": 4,
      "metadata": {
        "id": "lW326MD2FsuA"
      },
      "outputs": [],
      "source": [
        "documents_path = \"../data/raw/longeval-small/LongEval/2023_train/publish/English/Documents/Trec\"\n",
        "documents = [os.path.join(documents_path, path) for path in os.listdir(documents_path)]  # list of all docs paths"
      ]
    },
    {
      "cell_type": "code",
      "execution_count": 6,
      "metadata": {},
      "outputs": [
        {
          "name": "stderr",
          "output_type": "stream",
          "text": [
            "  4%|▍         | 7/158 [00:40<19:19,  7.68s/files]"
          ]
        },
        {
          "name": "stdout",
          "output_type": "stream",
          "text": [
            "15:12:38.923 [main] WARN org.terrier.structures.indexing.Indexer -- Adding an empty document to the index (doc062214510249) - further warnings are suppressed\n"
          ]
        },
        {
          "name": "stderr",
          "output_type": "stream",
          "text": [
            "159files [23:46,  8.60s/files]                      "
          ]
        },
        {
          "name": "stdout",
          "output_type": "stream",
          "text": [
            "15:41:42.056 [main] WARN org.terrier.structures.indexing.Indexer -- Indexed 46 empty documents\n"
          ]
        },
        {
          "name": "stderr",
          "output_type": "stream",
          "text": [
            "159files [29:55, 11.29s/files]\n"
          ]
        }
      ],
      "source": [
        "index = indexer.index(documents)"
      ]
    },
    {
      "cell_type": "markdown",
      "metadata": {
        "id": "cQuUxtyHIHVl"
      },
      "source": [
        "Die Indexierung dauert ca. 30 min. Um Zeit zu sparen können wir auch einen fertigen Index verwenden. Dieser wurde wie oben angegeben erstellt.\n",
        "\n",
        "Der Index kann von [hier](https://th-koeln.sciebo.de/s/jnVaXL8zI7hIVzZ) heruntergeladen werden.\n",
        "\n",
        "Unabhängig davon, ob wir den Index heruntergeladen oder selbst erstellt haben sollten wir nun einen Ordner mit Namen `index` haben. Mithilfe der folgenden Funktion können wir den Index aus dem Ordner laden und im Anschluss durchsuchen.\n"
      ]
    },
    {
      "cell_type": "code",
      "execution_count": 11,
      "metadata": {},
      "outputs": [],
      "source": [
        "index = pt.IndexFactory.of(\"./index\")"
      ]
    },
    {
      "cell_type": "markdown",
      "metadata": {
        "id": "SuJfAcoc0CSW"
      },
      "source": [
        "Zur Überprüfung das alles funktioniert hat lassen wir uns noch die Anzahl der Dokumente im Index anzeigen."
      ]
    },
    {
      "cell_type": "code",
      "execution_count": 12,
      "metadata": {
        "colab": {
          "base_uri": "https://localhost:8080/"
        },
        "id": "JYUQCXzwz3wb",
        "outputId": "1f6b969b-98af-43f9-af25-d66d569841dc"
      },
      "outputs": [
        {
          "name": "stdout",
          "output_type": "stream",
          "text": [
            "Number of documents: 1570734\n",
            "Number of terms: 3694081\n",
            "Number of postings: 433928454\n",
            "Number of fields: 0\n",
            "Number of tokens: 777790536\n",
            "Field names: []\n",
            "Positions:   true\n",
            "\n"
          ]
        }
      ],
      "source": [
        "print(index.getCollectionStatistics().toString())"
      ]
    },
    {
      "cell_type": "code",
      "execution_count": null,
      "metadata": {},
      "outputs": [],
      "source": []
    }
  ],
  "metadata": {
    "colab": {
      "provenance": []
    },
    "kernelspec": {
      "display_name": ".venv",
      "language": "python",
      "name": "python3"
    },
    "language_info": {
      "codemirror_mode": {
        "name": "ipython",
        "version": 3
      },
      "file_extension": ".py",
      "mimetype": "text/x-python",
      "name": "python",
      "nbconvert_exporter": "python",
      "pygments_lexer": "ipython3",
      "version": "3.9.7"
    }
  },
  "nbformat": 4,
  "nbformat_minor": 0
}
