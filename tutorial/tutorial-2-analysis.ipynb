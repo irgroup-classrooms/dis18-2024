{
  "cells": [
    {
      "cell_type": "markdown",
      "metadata": {
        "id": "mx1osd5gdK9o"
      },
      "source": [
        "# Tutorial 2: Explorative Datenanalyse\n",
        "In diesem zweiten Tutorial werden wir uns die Topics, Dokumente und Qrels der LongEval Test Kollektion anschauen und dabei den Umgang mit PyTerrier lernen."
      ]
    },
    {
      "cell_type": "markdown",
      "metadata": {
        "id": "w67e2RvRe-vd"
      },
      "source": [
        "Bevor wir PyTerrier benutzen können müssen wir es importieren und initialisieren."
      ]
    },
    {
      "cell_type": "code",
      "execution_count": 1,
      "metadata": {
        "colab": {
          "base_uri": "https://localhost:8080/"
        },
        "id": "KiRQJdBxy12c",
        "outputId": "6bb0962f-0373-4861-d440-885f44142876"
      },
      "outputs": [
        {
          "name": "stderr",
          "output_type": "stream",
          "text": [
            "Java started and loaded: pyterrier.java, pyterrier.terrier.java [version=5.10 (build: craigm 2024-08-22 17:33), helper_version=0.0.8]\n",
            "/var/folders/pz/f66p4s0s11z2c1c1l3v0qbh40000gn/T/ipykernel_41078/2516926211.py:2: DeprecationWarning: Call to deprecated method pt.init(). Deprecated since version 0.11.0.\n",
            "java is now started automatically with default settings. To force initialisation early, run:\n",
            "pt.java.init() # optional, forces java initialisation\n",
            "  pt.init()\n"
          ]
        }
      ],
      "source": [
        "import pyterrier as pt\n",
        "pt.init()"
      ]
    },
    {
      "cell_type": "markdown",
      "metadata": {
        "id": "vWi4b9QFfZXE"
      },
      "source": [
        "Anschließend können die Topics und Qrels einlesen."
      ]
    },
    {
      "cell_type": "markdown",
      "metadata": {
        "id": "2D3Ftvfnfti6"
      },
      "source": [
        "## Topics\n",
        "\n",
        "Mit dem Datensatz haben wir schnellen Zugriff auf die Topics, Dokumente und Qrels. Zunächst betrachten wir die Topics. Hierzu laden wir die Topics in einen DataFrame den wir für weitere Analysen benutzen können."
      ]
    },
    {
      "cell_type": "code",
      "execution_count": 2,
      "metadata": {},
      "outputs": [],
      "source": [
        "import pandas as pd"
      ]
    },
    {
      "cell_type": "code",
      "execution_count": 3,
      "metadata": {
        "colab": {
          "base_uri": "https://localhost:8080/",
          "height": 278
        },
        "id": "ZT_NearnztnW",
        "outputId": "4296f2d0-b931-48c2-b64a-6b9d24cb587d"
      },
      "outputs": [],
      "source": [
        "topics = pd.read_csv(\"../data/raw/longeval-small/LongEval/2023_train/publish/English/Queries/train.tsv\",\n",
        "            sep=\"\\t\",\n",
        "            names=[\"qid\", \"query\"],\n",
        "        )"
      ]
    },
    {
      "cell_type": "code",
      "execution_count": 4,
      "metadata": {},
      "outputs": [
        {
          "data": {
            "text/html": [
              "<div>\n",
              "<style scoped>\n",
              "    .dataframe tbody tr th:only-of-type {\n",
              "        vertical-align: middle;\n",
              "    }\n",
              "\n",
              "    .dataframe tbody tr th {\n",
              "        vertical-align: top;\n",
              "    }\n",
              "\n",
              "    .dataframe thead th {\n",
              "        text-align: right;\n",
              "    }\n",
              "</style>\n",
              "<table border=\"1\" class=\"dataframe\">\n",
              "  <thead>\n",
              "    <tr style=\"text-align: right;\">\n",
              "      <th></th>\n",
              "      <th>qid</th>\n",
              "      <th>query</th>\n",
              "    </tr>\n",
              "  </thead>\n",
              "  <tbody>\n",
              "    <tr>\n",
              "      <th>0</th>\n",
              "      <td>q06223196</td>\n",
              "      <td>Car shelter</td>\n",
              "    </tr>\n",
              "    <tr>\n",
              "      <th>1</th>\n",
              "      <td>q062228</td>\n",
              "      <td>airport</td>\n",
              "    </tr>\n",
              "  </tbody>\n",
              "</table>\n",
              "</div>"
            ],
            "text/plain": [
              "         qid        query\n",
              "0  q06223196  Car shelter\n",
              "1    q062228      airport"
            ]
          },
          "execution_count": 4,
          "metadata": {},
          "output_type": "execute_result"
        }
      ],
      "source": [
        "topics.head(2)"
      ]
    },
    {
      "cell_type": "markdown",
      "metadata": {
        "id": "U_SJBPQ4gHF2"
      },
      "source": [
        "Zunächst wollen wir die Topics statistisch betrachten. Interessante Fragestellungen sind hier zum Beispiel:\n",
        "- Wie viele Topics gibt es im Datensatz?  \n",
        "- Wie lang sind die Topics und wie lässt sich die Länge bemessen?\n",
        "- Wie sieht die Verteilung der Topic-Längen aus?\n",
        "- Was ist das längste und was ist das kürzeste Topic?\n",
        "- Wie lang ist ein Topic im Durchschnitt?\n",
        "- …"
      ]
    },
    {
      "cell_type": "code",
      "execution_count": 5,
      "metadata": {
        "id": "YIh2xyvZgSrO"
      },
      "outputs": [],
      "source": [
        "# TODO:\n",
        "# Führe deine eigene Analyse durch.\n",
        "# Dazu kannst du dich an den Fragestellungen oben orientieren aber sollst auch\n",
        "# eigene Fragestellungen entwickeln."
      ]
    },
    {
      "cell_type": "markdown",
      "metadata": {
        "id": "pLjsWkb8gmgP"
      },
      "source": [
        "Nachdem wir die Topics quantitativ betrachtet haben wollen wir sie nun qualitativ unter die Lupe nehmen.\n",
        "\n",
        "Hierzu schauen wir uns die Topics inhaltlich genauer an."
      ]
    },
    {
      "cell_type": "code",
      "execution_count": 6,
      "metadata": {
        "id": "ZnSXDW7qgv3X"
      },
      "outputs": [],
      "source": [
        "# TODO:\n",
        "# Lies dir ein paar Querys durch damit du einen Überblick bekommst wie die Suchanfragen aussehen."
      ]
    },
    {
      "cell_type": "markdown",
      "metadata": {
        "id": "8-js82R2hmpN"
      },
      "source": [
        "Nun können wir die Topics inhaltlich analysieren. Dazu gehen wir die Topics einzeln durch, versuchen den Inhalt zu verstehen und notieren uns unsere Erkenntnisse. Interessante Fragestellungen sind hier:\n",
        "\n",
        "- Welche Topics sind eher eindeutig und welche bleiben unklar?\n",
        "- Mit welchen Top 5 der Topics kannst du am meisten anfangen?  \n",
        "- Welche top 5 Topics verstehst du gar nicht? Was fehlt dir, um sie zu verstehen?\n",
        "- Lassen sich die Topics in Gruppen einteilen? Gibt es zum Beispiel Oberthemen oder Kategorien?\n",
        "- Wie verteilen sich die Topics über die Cluster?"
      ]
    },
    {
      "cell_type": "code",
      "execution_count": 7,
      "metadata": {
        "id": "KduowBidh6QA"
      },
      "outputs": [],
      "source": [
        "# TODO:\n",
        "# Analysiere die Topics auf Basis der oben genannten und deinen eigenen Fragen."
      ]
    },
    {
      "cell_type": "markdown",
      "metadata": {
        "id": "fmlm7HNypVqY"
      },
      "source": [
        "# Qrels\n",
        "\n",
        "Die dritte Komponente sind die Qrels. Also die Relevanzbewertungen zwischen den Dokumenten und Topics. Um einen Überblick über die Qrels zu bekomm betrachten wir sie im Zusammenhang mit den Topics und Dokumenten.  \n",
        "Auch auf die Qrels haben wir einfachen Zugriff. Hier sind allerdings nur die Querys über eine `qid` und die Dokumente über die `docno` referenziert."
      ]
    },
    {
      "cell_type": "code",
      "execution_count": 24,
      "metadata": {
        "colab": {
          "base_uri": "https://localhost:8080/",
          "height": 206
        },
        "id": "lUoPV7J90kV5",
        "outputId": "a1f45140-3530-4b11-c35a-a34fe9eda83c"
      },
      "outputs": [],
      "source": [
        "qrels = pd.read_csv(\"../data/raw/longeval-small/LongEval/2023_train/publish/French/Qrels/train.txt\",\n",
        "            sep=\" \",\n",
        "            names=[\"qid\", \"Q0\", \"docno\", \"relevance\"]\n",
        ")"
      ]
    },
    {
      "cell_type": "markdown",
      "metadata": {},
      "source": [
        "Analysiere die Qrels und versuche folgende Fragestellungen zu beantworten:\n",
        "- Wie viele Qrels gibt es?\n",
        "- Wie viele Dokumente sind in den Qrels referenziert?\n",
        "- Wie viele qrels gibt es pro Topic?\n",
        "- Wie viele Dokumente sind pro Topic relevant?\n",
        "- Wie viele Dokumente sind im Durchschnitt pro Topic relevant?\n",
        "- Wie viele nicht relevante Dokumente gibt es pro Topic?"
      ]
    },
    {
      "cell_type": "code",
      "execution_count": null,
      "metadata": {
        "id": "eQtKk8GxqIvP"
      },
      "outputs": [],
      "source": [
        "# TODO:\n",
        "# Analysiere die Qrels. Gehe hierzu auch deinen eigenen Fragestellungen nach."
      ]
    },
    {
      "cell_type": "markdown",
      "metadata": {},
      "source": [
        "## BONUS:\n",
        "Um ein noch besseres Verständnis von dem Datensatz zu bekommen wäre es hilfreich relevante und nicht relevante Dokumente zu betrachten. Leider ist der Datensatz mit über 1 Million Dokumenten wahrscheinlich zu groß, um ihn komfortabel in einen Dataframe zu laden. Wir brauchen also eine andere Möglichkeit, um die Dokumente zu analysieren.\n",
        "- Schreibe eine Funktion, welche die relevanten Dokumente für ein Topic ausgibt.\n",
        "- Schreibe eine Funktion, welche die nicht relevanten Dokumente für ein Topic ausgibt."
      ]
    },
    {
      "cell_type": "markdown",
      "metadata": {},
      "source": []
    }
  ],
  "metadata": {
    "accelerator": "GPU",
    "colab": {
      "gpuType": "T4",
      "provenance": []
    },
    "kernelspec": {
      "display_name": ".venv",
      "language": "python",
      "name": "python3"
    },
    "language_info": {
      "codemirror_mode": {
        "name": "ipython",
        "version": 3
      },
      "file_extension": ".py",
      "mimetype": "text/x-python",
      "name": "python",
      "nbconvert_exporter": "python",
      "pygments_lexer": "ipython3",
      "version": "3.9.7"
    },
    "widgets": {
      "application/vnd.jupyter.widget-state+json": {
        "03e6951412b849509c346bb052bcd26b": {
          "model_module": "@jupyter-widgets/controls",
          "model_module_version": "1.5.0",
          "model_name": "ProgressStyleModel",
          "state": {
            "_model_module": "@jupyter-widgets/controls",
            "_model_module_version": "1.5.0",
            "_model_name": "ProgressStyleModel",
            "_view_count": null,
            "_view_module": "@jupyter-widgets/base",
            "_view_module_version": "1.2.0",
            "_view_name": "StyleView",
            "bar_color": null,
            "description_width": ""
          }
        },
        "16039fc6f9d74b4ca4207b514700e7f1": {
          "model_module": "@jupyter-widgets/controls",
          "model_module_version": "1.5.0",
          "model_name": "FloatProgressModel",
          "state": {
            "_dom_classes": [],
            "_model_module": "@jupyter-widgets/controls",
            "_model_module_version": "1.5.0",
            "_model_name": "FloatProgressModel",
            "_view_count": null,
            "_view_module": "@jupyter-widgets/controls",
            "_view_module_version": "1.5.0",
            "_view_name": "ProgressView",
            "bar_style": "danger",
            "description": "",
            "description_tooltip": null,
            "layout": "IPY_MODEL_4f7d0ea462a847018b9bec9f3725f254",
            "max": 3672808,
            "min": 0,
            "orientation": "horizontal",
            "style": "IPY_MODEL_03e6951412b849509c346bb052bcd26b",
            "value": 0
          }
        },
        "4f7d0ea462a847018b9bec9f3725f254": {
          "model_module": "@jupyter-widgets/base",
          "model_module_version": "1.2.0",
          "model_name": "LayoutModel",
          "state": {
            "_model_module": "@jupyter-widgets/base",
            "_model_module_version": "1.2.0",
            "_model_name": "LayoutModel",
            "_view_count": null,
            "_view_module": "@jupyter-widgets/base",
            "_view_module_version": "1.2.0",
            "_view_name": "LayoutView",
            "align_content": null,
            "align_items": null,
            "align_self": null,
            "border": null,
            "bottom": null,
            "display": null,
            "flex": null,
            "flex_flow": null,
            "grid_area": null,
            "grid_auto_columns": null,
            "grid_auto_flow": null,
            "grid_auto_rows": null,
            "grid_column": null,
            "grid_gap": null,
            "grid_row": null,
            "grid_template_areas": null,
            "grid_template_columns": null,
            "grid_template_rows": null,
            "height": null,
            "justify_content": null,
            "justify_items": null,
            "left": null,
            "margin": null,
            "max_height": null,
            "max_width": null,
            "min_height": null,
            "min_width": null,
            "object_fit": null,
            "object_position": null,
            "order": null,
            "overflow": null,
            "overflow_x": null,
            "overflow_y": null,
            "padding": null,
            "right": null,
            "top": null,
            "visibility": null,
            "width": null
          }
        },
        "5ab1a5b5429b4e389fe878e8e0eea459": {
          "model_module": "@jupyter-widgets/base",
          "model_module_version": "1.2.0",
          "model_name": "LayoutModel",
          "state": {
            "_model_module": "@jupyter-widgets/base",
            "_model_module_version": "1.2.0",
            "_model_name": "LayoutModel",
            "_view_count": null,
            "_view_module": "@jupyter-widgets/base",
            "_view_module_version": "1.2.0",
            "_view_name": "LayoutView",
            "align_content": null,
            "align_items": null,
            "align_self": null,
            "border": null,
            "bottom": null,
            "display": null,
            "flex": null,
            "flex_flow": null,
            "grid_area": null,
            "grid_auto_columns": null,
            "grid_auto_flow": null,
            "grid_auto_rows": null,
            "grid_column": null,
            "grid_gap": null,
            "grid_row": null,
            "grid_template_areas": null,
            "grid_template_columns": null,
            "grid_template_rows": null,
            "height": null,
            "justify_content": null,
            "justify_items": null,
            "left": null,
            "margin": null,
            "max_height": null,
            "max_width": null,
            "min_height": null,
            "min_width": null,
            "object_fit": null,
            "object_position": null,
            "order": null,
            "overflow": null,
            "overflow_x": null,
            "overflow_y": null,
            "padding": null,
            "right": null,
            "top": null,
            "visibility": null,
            "width": null
          }
        },
        "5ab704dca9fb4d93934b34a81145f7f5": {
          "model_module": "@jupyter-widgets/base",
          "model_module_version": "1.2.0",
          "model_name": "LayoutModel",
          "state": {
            "_model_module": "@jupyter-widgets/base",
            "_model_module_version": "1.2.0",
            "_model_name": "LayoutModel",
            "_view_count": null,
            "_view_module": "@jupyter-widgets/base",
            "_view_module_version": "1.2.0",
            "_view_name": "LayoutView",
            "align_content": null,
            "align_items": null,
            "align_self": null,
            "border": null,
            "bottom": null,
            "display": null,
            "flex": null,
            "flex_flow": null,
            "grid_area": null,
            "grid_auto_columns": null,
            "grid_auto_flow": null,
            "grid_auto_rows": null,
            "grid_column": null,
            "grid_gap": null,
            "grid_row": null,
            "grid_template_areas": null,
            "grid_template_columns": null,
            "grid_template_rows": null,
            "height": null,
            "justify_content": null,
            "justify_items": null,
            "left": null,
            "margin": null,
            "max_height": null,
            "max_width": null,
            "min_height": null,
            "min_width": null,
            "object_fit": null,
            "object_position": null,
            "order": null,
            "overflow": null,
            "overflow_x": null,
            "overflow_y": null,
            "padding": null,
            "right": null,
            "top": null,
            "visibility": null,
            "width": null
          }
        },
        "74624fe72e554e9ea8d3e7aa1a8fe2ab": {
          "model_module": "@jupyter-widgets/controls",
          "model_module_version": "1.5.0",
          "model_name": "DescriptionStyleModel",
          "state": {
            "_model_module": "@jupyter-widgets/controls",
            "_model_module_version": "1.5.0",
            "_model_name": "DescriptionStyleModel",
            "_view_count": null,
            "_view_module": "@jupyter-widgets/base",
            "_view_module_version": "1.2.0",
            "_view_name": "StyleView",
            "description_width": ""
          }
        },
        "b4ef1b99cf4c425e9282852ad5994e38": {
          "model_module": "@jupyter-widgets/controls",
          "model_module_version": "1.5.0",
          "model_name": "DescriptionStyleModel",
          "state": {
            "_model_module": "@jupyter-widgets/controls",
            "_model_module_version": "1.5.0",
            "_model_name": "DescriptionStyleModel",
            "_view_count": null,
            "_view_module": "@jupyter-widgets/base",
            "_view_module_version": "1.2.0",
            "_view_name": "StyleView",
            "description_width": ""
          }
        },
        "c78439c10324496581a0aae7338b7b8e": {
          "model_module": "@jupyter-widgets/controls",
          "model_module_version": "1.5.0",
          "model_name": "HTMLModel",
          "state": {
            "_dom_classes": [],
            "_model_module": "@jupyter-widgets/controls",
            "_model_module_version": "1.5.0",
            "_model_name": "HTMLModel",
            "_view_count": null,
            "_view_module": "@jupyter-widgets/controls",
            "_view_module_version": "1.5.0",
            "_view_name": "HTMLView",
            "description": "",
            "description_tooltip": null,
            "layout": "IPY_MODEL_caad647534b8478fac009f9821fda6cb",
            "placeholder": "​",
            "style": "IPY_MODEL_b4ef1b99cf4c425e9282852ad5994e38",
            "value": "medline/2004/trec-genomics-2004 documents:   0%"
          }
        },
        "caad647534b8478fac009f9821fda6cb": {
          "model_module": "@jupyter-widgets/base",
          "model_module_version": "1.2.0",
          "model_name": "LayoutModel",
          "state": {
            "_model_module": "@jupyter-widgets/base",
            "_model_module_version": "1.2.0",
            "_model_name": "LayoutModel",
            "_view_count": null,
            "_view_module": "@jupyter-widgets/base",
            "_view_module_version": "1.2.0",
            "_view_name": "LayoutView",
            "align_content": null,
            "align_items": null,
            "align_self": null,
            "border": null,
            "bottom": null,
            "display": null,
            "flex": null,
            "flex_flow": null,
            "grid_area": null,
            "grid_auto_columns": null,
            "grid_auto_flow": null,
            "grid_auto_rows": null,
            "grid_column": null,
            "grid_gap": null,
            "grid_row": null,
            "grid_template_areas": null,
            "grid_template_columns": null,
            "grid_template_rows": null,
            "height": null,
            "justify_content": null,
            "justify_items": null,
            "left": null,
            "margin": null,
            "max_height": null,
            "max_width": null,
            "min_height": null,
            "min_width": null,
            "object_fit": null,
            "object_position": null,
            "order": null,
            "overflow": null,
            "overflow_x": null,
            "overflow_y": null,
            "padding": null,
            "right": null,
            "top": null,
            "visibility": null,
            "width": null
          }
        },
        "e53a9e23dcc449fc81c68e9626f03abf": {
          "model_module": "@jupyter-widgets/controls",
          "model_module_version": "1.5.0",
          "model_name": "HBoxModel",
          "state": {
            "_dom_classes": [],
            "_model_module": "@jupyter-widgets/controls",
            "_model_module_version": "1.5.0",
            "_model_name": "HBoxModel",
            "_view_count": null,
            "_view_module": "@jupyter-widgets/controls",
            "_view_module_version": "1.5.0",
            "_view_name": "HBoxView",
            "box_style": "",
            "children": [
              "IPY_MODEL_c78439c10324496581a0aae7338b7b8e",
              "IPY_MODEL_16039fc6f9d74b4ca4207b514700e7f1",
              "IPY_MODEL_f24e82d33da34fcfb2b85f6aed33991e"
            ],
            "layout": "IPY_MODEL_5ab1a5b5429b4e389fe878e8e0eea459"
          }
        },
        "f24e82d33da34fcfb2b85f6aed33991e": {
          "model_module": "@jupyter-widgets/controls",
          "model_module_version": "1.5.0",
          "model_name": "HTMLModel",
          "state": {
            "_dom_classes": [],
            "_model_module": "@jupyter-widgets/controls",
            "_model_module_version": "1.5.0",
            "_model_name": "HTMLModel",
            "_view_count": null,
            "_view_module": "@jupyter-widgets/controls",
            "_view_module_version": "1.5.0",
            "_view_name": "HTMLView",
            "description": "",
            "description_tooltip": null,
            "layout": "IPY_MODEL_5ab704dca9fb4d93934b34a81145f7f5",
            "placeholder": "​",
            "style": "IPY_MODEL_74624fe72e554e9ea8d3e7aa1a8fe2ab",
            "value": " 0/3672808 [00:00&lt;?, ?it/s]"
          }
        }
      }
    }
  },
  "nbformat": 4,
  "nbformat_minor": 0
}
