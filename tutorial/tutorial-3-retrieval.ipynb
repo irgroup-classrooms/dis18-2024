{
  "cells": [
    {
      "cell_type": "markdown",
      "metadata": {
        "id": "mx1osd5gdK9o"
      },
      "source": [
        "# Tutorial 3: Retrieval\n",
        "\n",
        "In diesem dritten Tutorial wollen wir erste Rankings erzeugen und diese anschließend auswerten.  \n",
        "\n",
        "Hierzu verwenden wir weiterhin PyTerrier und die LongEval Testkollektion, die im ersten Tutorial indexiert und im zweiten Tutorial analysiert wurde."
      ]
    },
    {
      "cell_type": "markdown",
      "metadata": {
        "id": "w67e2RvRe-vd"
      },
      "source": [
        "Bevor wir PyTerrier benutzen können müssen wir es importieren und initialisieren."
      ]
    },
    {
      "cell_type": "code",
      "execution_count": 1,
      "metadata": {
        "colab": {
          "base_uri": "https://localhost:8080/"
        },
        "id": "KiRQJdBxy12c",
        "outputId": "35b79ad6-d16f-45d4-95bc-04cf148b2aaa"
      },
      "outputs": [
        {
          "name": "stderr",
          "output_type": "stream",
          "text": [
            "Java started and loaded: pyterrier.java, pyterrier.terrier.java [version=5.10 (build: craigm 2024-08-22 17:33), helper_version=0.0.8]\n",
            "/var/folders/pz/f66p4s0s11z2c1c1l3v0qbh40000gn/T/ipykernel_95658/1997712876.py:3: DeprecationWarning: Call to deprecated method pt.init(). Deprecated since version 0.11.0.\n",
            "java is now started automatically with default settings. To force initialisation early, run:\n",
            "pt.java.init() # optional, forces java initialisation\n",
            "  pt.init()\n"
          ]
        }
      ],
      "source": [
        "import pandas as pd\n",
        "import pyterrier as pt\n",
        "pt.init()"
      ]
    },
    {
      "cell_type": "markdown",
      "metadata": {
        "id": "vWi4b9QFfZXE"
      },
      "source": [
        "Anschließend laden wir den Index."
      ]
    },
    {
      "cell_type": "code",
      "execution_count": 2,
      "metadata": {
        "colab": {
          "base_uri": "https://localhost:8080/"
        },
        "id": "JYUQCXzwz3wb",
        "outputId": "1f6b969b-98af-43f9-af25-d66d569841dc"
      },
      "outputs": [
        {
          "name": "stdout",
          "output_type": "stream",
          "text": [
            "Number of documents: 1570734\n",
            "Number of terms: 3694081\n",
            "Number of postings: 433928454\n",
            "Number of fields: 0\n",
            "Number of tokens: 777790536\n",
            "Field names: []\n",
            "Positions:   true\n",
            "\n"
          ]
        }
      ],
      "source": [
        "index = pt.IndexFactory.of(\"./index\")\n",
        "print(index.getCollectionStatistics().toString())"
      ]
    },
    {
      "cell_type": "markdown",
      "metadata": {
        "id": "KEEknflI2Haw"
      },
      "source": [
        "Als nächstes definieren wir die zwei Suchsysteme Tf und BM25."
      ]
    },
    {
      "cell_type": "code",
      "execution_count": 3,
      "metadata": {
        "id": "gQHc1KqtX4Hw"
      },
      "outputs": [
        {
          "name": "stderr",
          "output_type": "stream",
          "text": [
            "/var/folders/pz/f66p4s0s11z2c1c1l3v0qbh40000gn/T/ipykernel_95658/77646355.py:1: DeprecationWarning: Call to deprecated class BatchRetrieve. (use pt.terrier.Retriever() instead) -- Deprecated since version 0.11.0.\n",
            "  tf = pt.BatchRetrieve(index, wmodel=\"Tf\")\n",
            "/var/folders/pz/f66p4s0s11z2c1c1l3v0qbh40000gn/T/ipykernel_95658/77646355.py:2: DeprecationWarning: Call to deprecated class BatchRetrieve. (use pt.terrier.Retriever() instead) -- Deprecated since version 0.11.0.\n",
            "  bm25 = pt.BatchRetrieve(index, wmodel=\"BM25\")\n"
          ]
        }
      ],
      "source": [
        "tf = pt.BatchRetrieve(index, wmodel=\"Tf\")\n",
        "bm25 = pt.BatchRetrieve(index, wmodel=\"BM25\")"
      ]
    },
    {
      "cell_type": "markdown",
      "metadata": {
        "id": "INaoG7NA1M_M"
      },
      "source": [
        "Diese Systeme können wir nun verwenden, um die Testkollektion zu durchsuchen. Hierzu verwenden wir die `search` Funktion. Als Ergebnis bekommen wir einen Dataframe mit den gerankten Dokumenten zurück."
      ]
    },
    {
      "cell_type": "code",
      "execution_count": 4,
      "metadata": {
        "colab": {
          "base_uri": "https://localhost:8080/",
          "height": 424
        },
        "id": "FXJse6G81MPD",
        "outputId": "693b9765-c1ab-4325-bf7a-654085dec467"
      },
      "outputs": [
        {
          "data": {
            "text/html": [
              "<div>\n",
              "<style scoped>\n",
              "    .dataframe tbody tr th:only-of-type {\n",
              "        vertical-align: middle;\n",
              "    }\n",
              "\n",
              "    .dataframe tbody tr th {\n",
              "        vertical-align: top;\n",
              "    }\n",
              "\n",
              "    .dataframe thead th {\n",
              "        text-align: right;\n",
              "    }\n",
              "</style>\n",
              "<table border=\"1\" class=\"dataframe\">\n",
              "  <thead>\n",
              "    <tr style=\"text-align: right;\">\n",
              "      <th></th>\n",
              "      <th>qid</th>\n",
              "      <th>docid</th>\n",
              "      <th>docno</th>\n",
              "      <th>rank</th>\n",
              "      <th>score</th>\n",
              "      <th>query</th>\n",
              "    </tr>\n",
              "  </thead>\n",
              "  <tbody>\n",
              "    <tr>\n",
              "      <th>0</th>\n",
              "      <td>1</td>\n",
              "      <td>1336822</td>\n",
              "      <td>doc062208001049</td>\n",
              "      <td>0</td>\n",
              "      <td>100.0</td>\n",
              "      <td>Hello World</td>\n",
              "    </tr>\n",
              "    <tr>\n",
              "      <th>1</th>\n",
              "      <td>1</td>\n",
              "      <td>1538955</td>\n",
              "      <td>doc062208607798</td>\n",
              "      <td>1</td>\n",
              "      <td>95.0</td>\n",
              "      <td>Hello World</td>\n",
              "    </tr>\n",
              "    <tr>\n",
              "      <th>2</th>\n",
              "      <td>1</td>\n",
              "      <td>32434</td>\n",
              "      <td>doc062214401498</td>\n",
              "      <td>2</td>\n",
              "      <td>94.0</td>\n",
              "      <td>Hello World</td>\n",
              "    </tr>\n",
              "    <tr>\n",
              "      <th>3</th>\n",
              "      <td>1</td>\n",
              "      <td>41467</td>\n",
              "      <td>doc062214410531</td>\n",
              "      <td>3</td>\n",
              "      <td>93.0</td>\n",
              "      <td>Hello World</td>\n",
              "    </tr>\n",
              "    <tr>\n",
              "      <th>4</th>\n",
              "      <td>1</td>\n",
              "      <td>31039</td>\n",
              "      <td>doc062214400103</td>\n",
              "      <td>4</td>\n",
              "      <td>91.0</td>\n",
              "      <td>Hello World</td>\n",
              "    </tr>\n",
              "    <tr>\n",
              "      <th>...</th>\n",
              "      <td>...</td>\n",
              "      <td>...</td>\n",
              "      <td>...</td>\n",
              "      <td>...</td>\n",
              "      <td>...</td>\n",
              "      <td>...</td>\n",
              "    </tr>\n",
              "    <tr>\n",
              "      <th>995</th>\n",
              "      <td>1</td>\n",
              "      <td>1452339</td>\n",
              "      <td>doc062205207149</td>\n",
              "      <td>995</td>\n",
              "      <td>20.0</td>\n",
              "      <td>Hello World</td>\n",
              "    </tr>\n",
              "    <tr>\n",
              "      <th>996</th>\n",
              "      <td>1</td>\n",
              "      <td>1464932</td>\n",
              "      <td>doc062204401620</td>\n",
              "      <td>996</td>\n",
              "      <td>20.0</td>\n",
              "      <td>Hello World</td>\n",
              "    </tr>\n",
              "    <tr>\n",
              "      <th>997</th>\n",
              "      <td>1</td>\n",
              "      <td>1468000</td>\n",
              "      <td>doc062204404688</td>\n",
              "      <td>997</td>\n",
              "      <td>20.0</td>\n",
              "      <td>Hello World</td>\n",
              "    </tr>\n",
              "    <tr>\n",
              "      <th>998</th>\n",
              "      <td>1</td>\n",
              "      <td>1471329</td>\n",
              "      <td>doc062204408017</td>\n",
              "      <td>998</td>\n",
              "      <td>20.0</td>\n",
              "      <td>Hello World</td>\n",
              "    </tr>\n",
              "    <tr>\n",
              "      <th>999</th>\n",
              "      <td>1</td>\n",
              "      <td>1472135</td>\n",
              "      <td>doc062204408823</td>\n",
              "      <td>999</td>\n",
              "      <td>20.0</td>\n",
              "      <td>Hello World</td>\n",
              "    </tr>\n",
              "  </tbody>\n",
              "</table>\n",
              "<p>1000 rows × 6 columns</p>\n",
              "</div>"
            ],
            "text/plain": [
              "    qid    docid            docno  rank  score        query\n",
              "0     1  1336822  doc062208001049     0  100.0  Hello World\n",
              "1     1  1538955  doc062208607798     1   95.0  Hello World\n",
              "2     1    32434  doc062214401498     2   94.0  Hello World\n",
              "3     1    41467  doc062214410531     3   93.0  Hello World\n",
              "4     1    31039  doc062214400103     4   91.0  Hello World\n",
              "..   ..      ...              ...   ...    ...          ...\n",
              "995   1  1452339  doc062205207149   995   20.0  Hello World\n",
              "996   1  1464932  doc062204401620   996   20.0  Hello World\n",
              "997   1  1468000  doc062204404688   997   20.0  Hello World\n",
              "998   1  1471329  doc062204408017   998   20.0  Hello World\n",
              "999   1  1472135  doc062204408823   999   20.0  Hello World\n",
              "\n",
              "[1000 rows x 6 columns]"
            ]
          },
          "execution_count": 4,
          "metadata": {},
          "output_type": "execute_result"
        }
      ],
      "source": [
        "tf.search(\"Hello World\")"
      ]
    },
    {
      "cell_type": "code",
      "execution_count": 5,
      "metadata": {
        "id": "wlGiaDJrysI3"
      },
      "outputs": [],
      "source": [
        "# TODO:\n",
        "# Durchsuche die Testkollektion mit verschiedenen Querys."
      ]
    },
    {
      "cell_type": "markdown",
      "metadata": {
        "id": "9QTLkAWe2c-i"
      },
      "source": [
        "Um die zwei Systeme zu vergleichen, müssen wir ein Experiment durchführen. Praktischerweise hilft PyTerrier hierbei. Die `experiment` Funktion tut genau das. Als Input übergeben wir:\n",
        "\n",
        "- `retr_systems`: Eine Liste Retrieval Systeme die wir vergleichen wollen.\n",
        "- `topics`: Die Anfragen die verwendet werden, um die Sucheche durchzuführen.\n",
        "- `qrel`: Die Relevanzbewertungen aus der Testkollektion.\n",
        "- `eval_metrics`: Eine Liste Retrieval Maße die verwendet werden, um die Effektivität zu bemessen.\n",
        "\n",
        "Eine Übersichtsliste der unterstützten Maße ist in der [Dokumentation](https://pyterrier.readthedocs.io/en/latest/experiments.html#available-evaluation-measures) zu finden."
      ]
    },
    {
      "cell_type": "code",
      "execution_count": 21,
      "metadata": {
        "colab": {
          "base_uri": "https://localhost:8080/"
        },
        "id": "UpU2zGh1b3FE",
        "outputId": "fa649612-07e4-432f-8cf6-8a5d2cc123ea"
      },
      "outputs": [],
      "source": [
        "topics = pd.read_csv(\"../data/raw/longeval-small/LongEval/2023_train/publish/English/Queries/train.tsv\",\n",
        "            sep=\"\\t\",\n",
        "            names=[\"qid\", \"query\"],\n",
        "        )\n",
        "topics[\"query\"] = topics[\"query\"].str.replace(\"/\", \"\")\n",
        "topics[\"query\"] = topics[\"query\"].str.replace(\"'\", \"\")"
      ]
    },
    {
      "cell_type": "code",
      "execution_count": 22,
      "metadata": {},
      "outputs": [],
      "source": [
        "qrels = pd.read_csv(\"../data/raw/longeval-small/LongEval/2023_train/publish/French/Qrels/train.txt\",\n",
        "            sep=\" \",\n",
        "            names=[\"qid\", \"Q0\", \"docno\", \"relevance\"]\n",
        ")"
      ]
    },
    {
      "cell_type": "code",
      "execution_count": null,
      "metadata": {},
      "outputs": [],
      "source": [
        "results = pt.Experiment(\n",
        "    retr_systems=[tf, bm25],\n",
        "    topics=topics,\n",
        "    qrels=qrels,\n",
        "    eval_metrics=[\"ndcg\"],\n",
        "    verbose = True\n",
        ")\n",
        "results"
      ]
    },
    {
      "cell_type": "code",
      "execution_count": null,
      "metadata": {
        "id": "k_SB7HA12nv9"
      },
      "outputs": [],
      "source": [
        "# TODO:\n",
        "# Führe Experimente durch und vergleiche die Ergebnisse anhand der Maße\n",
        "# Kannst du die bisher besprochenen Eigenschaften der unterschiedlichen\n",
        "# Retrieval Maße beobachten?"
      ]
    },
    {
      "cell_type": "markdown",
      "metadata": {
        "id": "RMnPaSr59xXV"
      },
      "source": [
        "Um einen Detaillierteren Einblick in die Ergebnisse zu bekommen, lassen wir uns nun die Ergebnisse pro Topic, also pro Suchanfrage zurückgeben. Diese Ergebnisse lassen weitere Analysen zu. Interessante Fragestellungen sind zum Beispiel:\n",
        "- Für welches Topic ist ein System am effektivsten und für welches am wenigsten effektiv?\n",
        "- Woran könnte das liegen?\n",
        "- Gibt es Bereiche in denen ein System besonders gut performt?\n",
        "- Wie lassen sich die Ergebnisse visualisieren?"
      ]
    },
    {
      "cell_type": "code",
      "execution_count": 27,
      "metadata": {
        "colab": {
          "base_uri": "https://localhost:8080/",
          "height": 424
        },
        "id": "pLJ-towu2uX8",
        "outputId": "0af3a45f-0086-42b8-f776-162f63f5bd7a"
      },
      "outputs": [
        {
          "data": {
            "text/html": [
              "<div>\n",
              "<style scoped>\n",
              "    .dataframe tbody tr th:only-of-type {\n",
              "        vertical-align: middle;\n",
              "    }\n",
              "\n",
              "    .dataframe tbody tr th {\n",
              "        vertical-align: top;\n",
              "    }\n",
              "\n",
              "    .dataframe thead th {\n",
              "        text-align: right;\n",
              "    }\n",
              "</style>\n",
              "<table border=\"1\" class=\"dataframe\">\n",
              "  <thead>\n",
              "    <tr style=\"text-align: right;\">\n",
              "      <th></th>\n",
              "      <th>name</th>\n",
              "      <th>qid</th>\n",
              "      <th>measure</th>\n",
              "      <th>value</th>\n",
              "    </tr>\n",
              "  </thead>\n",
              "  <tbody>\n",
              "    <tr>\n",
              "      <th>980</th>\n",
              "      <td>TerrierRetr(BM25)</td>\n",
              "      <td>q062210081</td>\n",
              "      <td>ndcg_cut_10</td>\n",
              "      <td>0.000000</td>\n",
              "    </tr>\n",
              "    <tr>\n",
              "      <th>982</th>\n",
              "      <td>TerrierRetr(BM25)</td>\n",
              "      <td>q062210089</td>\n",
              "      <td>ndcg_cut_10</td>\n",
              "      <td>0.000000</td>\n",
              "    </tr>\n",
              "    <tr>\n",
              "      <th>983</th>\n",
              "      <td>TerrierRetr(BM25)</td>\n",
              "      <td>q062210095</td>\n",
              "      <td>ndcg_cut_10</td>\n",
              "      <td>0.260235</td>\n",
              "    </tr>\n",
              "    <tr>\n",
              "      <th>984</th>\n",
              "      <td>TerrierRetr(BM25)</td>\n",
              "      <td>q062210106</td>\n",
              "      <td>ndcg_cut_10</td>\n",
              "      <td>0.000000</td>\n",
              "    </tr>\n",
              "    <tr>\n",
              "      <th>985</th>\n",
              "      <td>TerrierRetr(BM25)</td>\n",
              "      <td>q062210117</td>\n",
              "      <td>ndcg_cut_10</td>\n",
              "      <td>0.301030</td>\n",
              "    </tr>\n",
              "    <tr>\n",
              "      <th>...</th>\n",
              "      <td>...</td>\n",
              "      <td>...</td>\n",
              "      <td>...</td>\n",
              "      <td>...</td>\n",
              "    </tr>\n",
              "    <tr>\n",
              "      <th>303</th>\n",
              "      <td>TerrierRetr(Tf)</td>\n",
              "      <td>q06229696</td>\n",
              "      <td>ndcg_cut_10</td>\n",
              "      <td>0.000000</td>\n",
              "    </tr>\n",
              "    <tr>\n",
              "      <th>304</th>\n",
              "      <td>TerrierRetr(Tf)</td>\n",
              "      <td>q06229698</td>\n",
              "      <td>ndcg_cut_10</td>\n",
              "      <td>0.000000</td>\n",
              "    </tr>\n",
              "    <tr>\n",
              "      <th>37</th>\n",
              "      <td>TerrierRetr(Tf)</td>\n",
              "      <td>q0622984</td>\n",
              "      <td>ndcg_cut_10</td>\n",
              "      <td>0.000000</td>\n",
              "    </tr>\n",
              "    <tr>\n",
              "      <th>305</th>\n",
              "      <td>TerrierRetr(Tf)</td>\n",
              "      <td>q06229906</td>\n",
              "      <td>ndcg_cut_10</td>\n",
              "      <td>0.000000</td>\n",
              "    </tr>\n",
              "    <tr>\n",
              "      <th>306</th>\n",
              "      <td>TerrierRetr(Tf)</td>\n",
              "      <td>q06229908</td>\n",
              "      <td>ndcg_cut_10</td>\n",
              "      <td>0.000000</td>\n",
              "    </tr>\n",
              "  </tbody>\n",
              "</table>\n",
              "<p>1344 rows × 4 columns</p>\n",
              "</div>"
            ],
            "text/plain": [
              "                  name         qid      measure     value\n",
              "980  TerrierRetr(BM25)  q062210081  ndcg_cut_10  0.000000\n",
              "982  TerrierRetr(BM25)  q062210089  ndcg_cut_10  0.000000\n",
              "983  TerrierRetr(BM25)  q062210095  ndcg_cut_10  0.260235\n",
              "984  TerrierRetr(BM25)  q062210106  ndcg_cut_10  0.000000\n",
              "985  TerrierRetr(BM25)  q062210117  ndcg_cut_10  0.301030\n",
              "..                 ...         ...          ...       ...\n",
              "303    TerrierRetr(Tf)   q06229696  ndcg_cut_10  0.000000\n",
              "304    TerrierRetr(Tf)   q06229698  ndcg_cut_10  0.000000\n",
              "37     TerrierRetr(Tf)    q0622984  ndcg_cut_10  0.000000\n",
              "305    TerrierRetr(Tf)   q06229906  ndcg_cut_10  0.000000\n",
              "306    TerrierRetr(Tf)   q06229908  ndcg_cut_10  0.000000\n",
              "\n",
              "[1344 rows x 4 columns]"
            ]
          },
          "execution_count": 27,
          "metadata": {},
          "output_type": "execute_result"
        }
      ],
      "source": [
        "results = pt.Experiment(\n",
        "    retr_systems=[tf, bm25],\n",
        "    topics=topics,\n",
        "    qrels=qrels,\n",
        "    perquery=True,\n",
        "    eval_metrics=[\"ndcg_cut_10\"]\n",
        ")\n",
        "results"
      ]
    },
    {
      "cell_type": "code",
      "execution_count": null,
      "metadata": {
        "id": "tLrGNnTp2uSw"
      },
      "outputs": [],
      "source": [
        "# TODO\n",
        "# Analysiere die Ergebnisse pro Topic anhand der oben genannten und eigenen\n",
        "# Fragestellungen."
      ]
    }
  ],
  "metadata": {
    "colab": {
      "provenance": []
    },
    "kernelspec": {
      "display_name": ".venv",
      "language": "python",
      "name": "python3"
    },
    "language_info": {
      "codemirror_mode": {
        "name": "ipython",
        "version": 3
      },
      "file_extension": ".py",
      "mimetype": "text/x-python",
      "name": "python",
      "nbconvert_exporter": "python",
      "pygments_lexer": "ipython3",
      "version": "3.9.7"
    },
    "widgets": {
      "application/vnd.jupyter.widget-state+json": {
        "0154d8c45d9d431f8e69526190c09779": {
          "model_module": "@jupyter-widgets/controls",
          "model_module_version": "1.5.0",
          "model_name": "HTMLModel",
          "state": {
            "_dom_classes": [],
            "_model_module": "@jupyter-widgets/controls",
            "_model_module_version": "1.5.0",
            "_model_name": "HTMLModel",
            "_view_count": null,
            "_view_module": "@jupyter-widgets/controls",
            "_view_module_version": "1.5.0",
            "_view_name": "HTMLView",
            "description": "",
            "description_tooltip": null,
            "layout": "IPY_MODEL_faef29b24d0d48b9a95898f8ced639c5",
            "placeholder": "​",
            "style": "IPY_MODEL_08fba46197b64cffb5a89a3593e49f08",
            "value": "medline/2004/trec-genomics-2004 documents: 100%"
          }
        },
        "05d0d432431743afa7b026b1f639a4ad": {
          "model_module": "@jupyter-widgets/controls",
          "model_module_version": "1.5.0",
          "model_name": "ProgressStyleModel",
          "state": {
            "_model_module": "@jupyter-widgets/controls",
            "_model_module_version": "1.5.0",
            "_model_name": "ProgressStyleModel",
            "_view_count": null,
            "_view_module": "@jupyter-widgets/base",
            "_view_module_version": "1.2.0",
            "_view_name": "StyleView",
            "bar_color": null,
            "description_width": ""
          }
        },
        "08fba46197b64cffb5a89a3593e49f08": {
          "model_module": "@jupyter-widgets/controls",
          "model_module_version": "1.5.0",
          "model_name": "DescriptionStyleModel",
          "state": {
            "_model_module": "@jupyter-widgets/controls",
            "_model_module_version": "1.5.0",
            "_model_name": "DescriptionStyleModel",
            "_view_count": null,
            "_view_module": "@jupyter-widgets/base",
            "_view_module_version": "1.2.0",
            "_view_name": "StyleView",
            "description_width": ""
          }
        },
        "37d26801d370443ea216dd0829a230f7": {
          "model_module": "@jupyter-widgets/controls",
          "model_module_version": "1.5.0",
          "model_name": "DescriptionStyleModel",
          "state": {
            "_model_module": "@jupyter-widgets/controls",
            "_model_module_version": "1.5.0",
            "_model_name": "DescriptionStyleModel",
            "_view_count": null,
            "_view_module": "@jupyter-widgets/base",
            "_view_module_version": "1.2.0",
            "_view_name": "StyleView",
            "description_width": ""
          }
        },
        "482d31cd14d447f98f0c24a52c5557e9": {
          "model_module": "@jupyter-widgets/controls",
          "model_module_version": "1.5.0",
          "model_name": "HBoxModel",
          "state": {
            "_dom_classes": [],
            "_model_module": "@jupyter-widgets/controls",
            "_model_module_version": "1.5.0",
            "_model_name": "HBoxModel",
            "_view_count": null,
            "_view_module": "@jupyter-widgets/controls",
            "_view_module_version": "1.5.0",
            "_view_name": "HBoxView",
            "box_style": "",
            "children": [
              "IPY_MODEL_0154d8c45d9d431f8e69526190c09779",
              "IPY_MODEL_491f3ddd11014800a3d6b4dd528afaca",
              "IPY_MODEL_81355cdb7a5a430bb1f9c4faac53c41a"
            ],
            "layout": "IPY_MODEL_e59cb4f0f1664d528ffff65c335bbf87"
          }
        },
        "491f3ddd11014800a3d6b4dd528afaca": {
          "model_module": "@jupyter-widgets/controls",
          "model_module_version": "1.5.0",
          "model_name": "FloatProgressModel",
          "state": {
            "_dom_classes": [],
            "_model_module": "@jupyter-widgets/controls",
            "_model_module_version": "1.5.0",
            "_model_name": "FloatProgressModel",
            "_view_count": null,
            "_view_module": "@jupyter-widgets/controls",
            "_view_module_version": "1.5.0",
            "_view_name": "ProgressView",
            "bar_style": "success",
            "description": "",
            "description_tooltip": null,
            "layout": "IPY_MODEL_b3c71395dbbd4929a85a1b7f1a9db668",
            "max": 3672808,
            "min": 0,
            "orientation": "horizontal",
            "style": "IPY_MODEL_05d0d432431743afa7b026b1f639a4ad",
            "value": 3672808
          }
        },
        "81355cdb7a5a430bb1f9c4faac53c41a": {
          "model_module": "@jupyter-widgets/controls",
          "model_module_version": "1.5.0",
          "model_name": "HTMLModel",
          "state": {
            "_dom_classes": [],
            "_model_module": "@jupyter-widgets/controls",
            "_model_module_version": "1.5.0",
            "_model_name": "HTMLModel",
            "_view_count": null,
            "_view_module": "@jupyter-widgets/controls",
            "_view_module_version": "1.5.0",
            "_view_name": "HTMLView",
            "description": "",
            "description_tooltip": null,
            "layout": "IPY_MODEL_983ac83f34b044a7bc1500065df0c216",
            "placeholder": "​",
            "style": "IPY_MODEL_37d26801d370443ea216dd0829a230f7",
            "value": " 3672808/3672808 [1:23:36&lt;00:00, 743.70it/s]"
          }
        },
        "983ac83f34b044a7bc1500065df0c216": {
          "model_module": "@jupyter-widgets/base",
          "model_module_version": "1.2.0",
          "model_name": "LayoutModel",
          "state": {
            "_model_module": "@jupyter-widgets/base",
            "_model_module_version": "1.2.0",
            "_model_name": "LayoutModel",
            "_view_count": null,
            "_view_module": "@jupyter-widgets/base",
            "_view_module_version": "1.2.0",
            "_view_name": "LayoutView",
            "align_content": null,
            "align_items": null,
            "align_self": null,
            "border": null,
            "bottom": null,
            "display": null,
            "flex": null,
            "flex_flow": null,
            "grid_area": null,
            "grid_auto_columns": null,
            "grid_auto_flow": null,
            "grid_auto_rows": null,
            "grid_column": null,
            "grid_gap": null,
            "grid_row": null,
            "grid_template_areas": null,
            "grid_template_columns": null,
            "grid_template_rows": null,
            "height": null,
            "justify_content": null,
            "justify_items": null,
            "left": null,
            "margin": null,
            "max_height": null,
            "max_width": null,
            "min_height": null,
            "min_width": null,
            "object_fit": null,
            "object_position": null,
            "order": null,
            "overflow": null,
            "overflow_x": null,
            "overflow_y": null,
            "padding": null,
            "right": null,
            "top": null,
            "visibility": null,
            "width": null
          }
        },
        "b3c71395dbbd4929a85a1b7f1a9db668": {
          "model_module": "@jupyter-widgets/base",
          "model_module_version": "1.2.0",
          "model_name": "LayoutModel",
          "state": {
            "_model_module": "@jupyter-widgets/base",
            "_model_module_version": "1.2.0",
            "_model_name": "LayoutModel",
            "_view_count": null,
            "_view_module": "@jupyter-widgets/base",
            "_view_module_version": "1.2.0",
            "_view_name": "LayoutView",
            "align_content": null,
            "align_items": null,
            "align_self": null,
            "border": null,
            "bottom": null,
            "display": null,
            "flex": null,
            "flex_flow": null,
            "grid_area": null,
            "grid_auto_columns": null,
            "grid_auto_flow": null,
            "grid_auto_rows": null,
            "grid_column": null,
            "grid_gap": null,
            "grid_row": null,
            "grid_template_areas": null,
            "grid_template_columns": null,
            "grid_template_rows": null,
            "height": null,
            "justify_content": null,
            "justify_items": null,
            "left": null,
            "margin": null,
            "max_height": null,
            "max_width": null,
            "min_height": null,
            "min_width": null,
            "object_fit": null,
            "object_position": null,
            "order": null,
            "overflow": null,
            "overflow_x": null,
            "overflow_y": null,
            "padding": null,
            "right": null,
            "top": null,
            "visibility": null,
            "width": null
          }
        },
        "e59cb4f0f1664d528ffff65c335bbf87": {
          "model_module": "@jupyter-widgets/base",
          "model_module_version": "1.2.0",
          "model_name": "LayoutModel",
          "state": {
            "_model_module": "@jupyter-widgets/base",
            "_model_module_version": "1.2.0",
            "_model_name": "LayoutModel",
            "_view_count": null,
            "_view_module": "@jupyter-widgets/base",
            "_view_module_version": "1.2.0",
            "_view_name": "LayoutView",
            "align_content": null,
            "align_items": null,
            "align_self": null,
            "border": null,
            "bottom": null,
            "display": null,
            "flex": null,
            "flex_flow": null,
            "grid_area": null,
            "grid_auto_columns": null,
            "grid_auto_flow": null,
            "grid_auto_rows": null,
            "grid_column": null,
            "grid_gap": null,
            "grid_row": null,
            "grid_template_areas": null,
            "grid_template_columns": null,
            "grid_template_rows": null,
            "height": null,
            "justify_content": null,
            "justify_items": null,
            "left": null,
            "margin": null,
            "max_height": null,
            "max_width": null,
            "min_height": null,
            "min_width": null,
            "object_fit": null,
            "object_position": null,
            "order": null,
            "overflow": null,
            "overflow_x": null,
            "overflow_y": null,
            "padding": null,
            "right": null,
            "top": null,
            "visibility": null,
            "width": null
          }
        },
        "faef29b24d0d48b9a95898f8ced639c5": {
          "model_module": "@jupyter-widgets/base",
          "model_module_version": "1.2.0",
          "model_name": "LayoutModel",
          "state": {
            "_model_module": "@jupyter-widgets/base",
            "_model_module_version": "1.2.0",
            "_model_name": "LayoutModel",
            "_view_count": null,
            "_view_module": "@jupyter-widgets/base",
            "_view_module_version": "1.2.0",
            "_view_name": "LayoutView",
            "align_content": null,
            "align_items": null,
            "align_self": null,
            "border": null,
            "bottom": null,
            "display": null,
            "flex": null,
            "flex_flow": null,
            "grid_area": null,
            "grid_auto_columns": null,
            "grid_auto_flow": null,
            "grid_auto_rows": null,
            "grid_column": null,
            "grid_gap": null,
            "grid_row": null,
            "grid_template_areas": null,
            "grid_template_columns": null,
            "grid_template_rows": null,
            "height": null,
            "justify_content": null,
            "justify_items": null,
            "left": null,
            "margin": null,
            "max_height": null,
            "max_width": null,
            "min_height": null,
            "min_width": null,
            "object_fit": null,
            "object_position": null,
            "order": null,
            "overflow": null,
            "overflow_x": null,
            "overflow_y": null,
            "padding": null,
            "right": null,
            "top": null,
            "visibility": null,
            "width": null
          }
        }
      }
    }
  },
  "nbformat": 4,
  "nbformat_minor": 0
}
